{
  "nbformat": 4,
  "nbformat_minor": 0,
  "metadata": {
    "colab": {
      "name": "lecture02.ipynb",
      "provenance": [],
      "collapsed_sections": [],
      "authorship_tag": "ABX9TyOUR/xPvM/hQuWcq5oWeWeb",
      "include_colab_link": true
    },
    "kernelspec": {
      "name": "python3",
      "display_name": "Python 3"
    }
  },
  "cells": [
    {
      "cell_type": "markdown",
      "metadata": {
        "id": "view-in-github",
        "colab_type": "text"
      },
      "source": [
        "<a href=\"https://colab.research.google.com/github/tnaka78/mit_ocw_1806_spring_2005/blob/master/lecture02.ipynb\" target=\"_parent\"><img src=\"https://colab.research.google.com/assets/colab-badge.svg\" alt=\"Open In Colab\"/></a>"
      ]
    },
    {
      "cell_type": "code",
      "metadata": {
        "id": "HCHaJg0JK-2A",
        "colab_type": "code",
        "colab": {}
      },
      "source": [
        "import numpy as np"
      ],
      "execution_count": 0,
      "outputs": []
    },
    {
      "cell_type": "markdown",
      "metadata": {
        "id": "dMa8_S-ULGDj",
        "colab_type": "text"
      },
      "source": [
        "# Lecture 2: Elimination with Matrices\n",
        "講義動画：https://www.youtube.com/watch?v=QVKj3LADCnA"
      ]
    },
    {
      "cell_type": "markdown",
      "metadata": {
        "id": "q-vV4OgixUKp",
        "colab_type": "text"
      },
      "source": [
        "## 消去法 (Elimination)"
      ]
    },
    {
      "cell_type": "markdown",
      "metadata": {
        "id": "6uojRL4fLU7u",
        "colab_type": "text"
      },
      "source": [
        "$$\n",
        "\\begin{align}\n",
        "x+2y+z &=2 \\tag{1} \\\\\n",
        "3x+8y+z&=12 \\tag{2} \\\\\n",
        "4y+z&=2 \\tag{3}\n",
        "\\end{align}\n",
        "$$\n",
        "\n",
        "これを$Ax=b$の形にすると、$A$は次のように表される。\n",
        "$$\n",
        "A = \\left[\n",
        "  \\begin{array}{ccc}\n",
        "    1 & 2 & 1 \\\\\n",
        "    3 & 8 & 1 \\\\\n",
        "    0 & 4 & 1 \\\\\n",
        "  \\end{array}\n",
        "\\right]\n",
        "$$\n",
        "\n",
        "まず$(2)-(1)\\times{}3$で$A_{2,1}$を0にする。→これで1列目のピボットができる。\n",
        "$$\n",
        "\\left[\n",
        "  \\begin{array}{ccc}\n",
        "    \\bf{1} & 2 & 1 \\\\\n",
        "    0 & 2 & -2 \\\\\n",
        "    0 & 4 & 1 \\\\\n",
        "  \\end{array}\n",
        "\\right]\n",
        "$$\n",
        "\n",
        "次に、$(3)-(2)\\times{}2$で$A_{3,2}$を0にする。→これで2列目と3列目のピボットができる。→これが上三角形(upper triangle)\n",
        "$$\n",
        "\\left[\n",
        "  \\begin{array}{ccc}\n",
        "  \\bf{1} & 2 & 1 \\\\\n",
        "  0 & \\bf{2} & -2 \\\\\n",
        "  0 & 0 & \\bf{5} \\\\\n",
        "  \\end{array}\n",
        "\\right] = U\n",
        "$$"
      ]
    },
    {
      "cell_type": "markdown",
      "metadata": {
        "id": "w4lR5NhhQhzd",
        "colab_type": "text"
      },
      "source": [
        "ピボットの位置がすでに0だったら、それより下の行と入れ替える。"
      ]
    },
    {
      "cell_type": "markdown",
      "metadata": {
        "id": "sl6vCcp-SOsi",
        "colab_type": "text"
      },
      "source": [
        "上記に$b$の列を追加してみる。\n",
        "\n",
        "$$\n",
        "\\left[\n",
        "  \\begin{array}{ccc|c}\n",
        "    1 & 2 & 1 & 2 \\\\\n",
        "    3 & 8 & 1 & 12 \\\\\n",
        "    0 & 4 & 1 & 2 \\\\\n",
        "  \\end{array}\n",
        "\\right]\n",
        "$$\n",
        "\n",
        "$(2)-(1)\\times{}3$\n",
        "$$\n",
        "\\left[\n",
        "  \\begin{array}{ccc|c}\n",
        "    1 & 2 & 1 & 2 \\\\\n",
        "    0 & 2 & -2 & 6 \\\\\n",
        "    0 & 4 & 1 & 2 \\\\\n",
        "  \\end{array}\n",
        "\\right]\n",
        "$$\n",
        "\n",
        "$(3)-(2)\\times{}2$\n",
        "$$\n",
        "\\left[\n",
        "  \\begin{array}{ccc|c}\n",
        "  1 & 2 & 1 & 2 \\\\\n",
        "  0 & 2 & -2 & 6 \\\\\n",
        "  0 & 0 & 5 & -10 \\\\\n",
        "  \\end{array}\n",
        "\\right]\n",
        "$$\n",
        "\n",
        "これにより、次の式を得る。\n",
        "$$\n",
        "\\begin{align}\n",
        "x+2y+z &=2 \\\\\n",
        "2y-2z&=6 \\\\\n",
        "5z&=-10\n",
        "\\end{align}\n",
        "$$\n",
        "\n",
        "ここから、$z=-2, y=1, x=2$が導き出せる。"
      ]
    },
    {
      "cell_type": "markdown",
      "metadata": {
        "id": "lslttC0ZsALF",
        "colab_type": "text"
      },
      "source": [
        "行列×列＝列\n",
        "\n",
        "$$\n",
        "\\left[\n",
        "  \\begin{array}{ccc}\n",
        "    A_{1, 1} & A_{1, 2} & A_{1, 3} \\\\\n",
        "    A_{2, 1} & A_{2, 2} & A_{2, 3} \\\\\n",
        "    A_{3, 1} & A_{3, 2} & A_{3, 3} \\\\\n",
        "  \\end{array}\n",
        "\\right] \\left[\n",
        "  \\begin{array}{c} a \\\\ b \\\\ c \\end{array}\n",
        "\\right] = a\\left[\n",
        "  \\begin{array}{c} A_{1,1} \\\\ A_{2,1} \\\\ A_{3,1} \\end{array}\n",
        "\\right]+b\\left[\n",
        "  \\begin{array}{c} A_{1,2} \\\\ A_{2,2} \\\\ A_{3,2} \\end{array}\n",
        "\\right]+c\\left[\n",
        "  \\begin{array}{c} A_{1,3} \\\\ A_{2,3} \\\\ A_{3,3} \\end{array}\n",
        "\\right]\n",
        "$$\n",
        "\n",
        "行×行列＝行\n",
        "\n",
        "$$\n",
        " \\left[\n",
        "  \\begin{array}{ccc}\n",
        "    a & b & c\n",
        "  \\end{array}\n",
        "\\right] \\left[\n",
        "  \\begin{array}{ccc}\n",
        "    A_{1, 1} & A_{1, 2} & A_{1, 3} \\\\\n",
        "    A_{2, 1} & A_{2, 2} & A_{2, 3} \\\\\n",
        "    A_{3, 1} & A_{3, 2} & A_{3, 3} \\\\\n",
        "  \\end{array}\n",
        "\\right] = a\\left[\n",
        "  \\begin{array}{ccc} A_{1,1} & A_{2,1} & A_{3,1} \\end{array}\n",
        "\\right]+b\\left[\n",
        "  \\begin{array}{ccc} A_{2,1} & A_{2,2} & A_{2,3} \\end{array}\n",
        "\\right]+c\\left[\n",
        "  \\begin{array}{ccc} A_{3,1} & A_{3,2} & A_{3,3} \\end{array}\n",
        "\\right]\n",
        "$$\n"
      ]
    },
    {
      "cell_type": "markdown",
      "metadata": {
        "id": "rtlntqbjEZcA",
        "colab_type": "text"
      },
      "source": [
        "## 行列を使った消去法"
      ]
    },
    {
      "cell_type": "markdown",
      "metadata": {
        "id": "TF2MhPKIE4Qj",
        "colab_type": "text"
      },
      "source": [
        "上記の最初の変形（$\\left[\n",
        "  \\begin{array}{ccc}\n",
        "    1 & 2 & 1 \\\\\n",
        "    3 & 8 & 1 \\\\\n",
        "    0 & 4 & 1 \\\\\n",
        "  \\end{array}\n",
        "\\right]$\n",
        "を\n",
        "$\\left[\n",
        "  \\begin{array}{ccc}\n",
        "    1 & 2 & 1 \\\\\n",
        "    0 & 2 & -2 \\\\\n",
        "    0 & 4 & 1 \\\\\n",
        "  \\end{array}\n",
        "\\right]$\n",
        "に変換）を行うには、行列の左側から\n",
        "$\\left[\n",
        "  \\begin{array}{ccc}\n",
        "    1 & 0 & 0 \\\\\n",
        "    -3 & 1 & 0 \\\\\n",
        "    0 & 0 & 1 \\\\\n",
        "  \\end{array}\n",
        "\\right]$\n",
        "を掛ける。\n",
        "\n",
        "$$\n",
        "\\left[\n",
        "  \\begin{array}{ccc}\n",
        "    1 & 0 & 0 \\\\\n",
        "    -3 & 1 & 0 \\\\\n",
        "    0 & 0 & 1 \\\\\n",
        "  \\end{array}\n",
        "\\right] \\left[\n",
        "  \\begin{array}{ccc}\n",
        "    1 & 2 & 1 \\\\\n",
        "    3 & 8 & 1 \\\\\n",
        "    0 & 4 & 1 \\\\\n",
        "  \\end{array}\n",
        "\\right] = \\left[\n",
        "  \\begin{array}{ccc}\n",
        "    1 & 2 & 1 \\\\\n",
        "    0 & 2 & -2 \\\\\n",
        "    0 & 4 & 1 \\\\\n",
        "  \\end{array}\n",
        "\\right]\n",
        "$$\n"
      ]
    },
    {
      "cell_type": "code",
      "metadata": {
        "id": "f_SKwRGoGVIz",
        "colab_type": "code",
        "outputId": "4939190f-3431-4ac8-a5ee-26a32c1d026f",
        "colab": {
          "base_uri": "https://localhost:8080/",
          "height": 70
        }
      },
      "source": [
        "E21 = np.array([[1, 0, 0], [-3, 1, 0], [0, 0, 1]])\n",
        "A = np.array([[1, 2, 1], [3, 8, 1], [0, 4, 1]])\n",
        "A_ = np.dot(E21, A)\n",
        "A_"
      ],
      "execution_count": 2,
      "outputs": [
        {
          "output_type": "execute_result",
          "data": {
            "text/plain": [
              "array([[ 1,  2,  1],\n",
              "       [ 0,  2, -2],\n",
              "       [ 0,  4,  1]])"
            ]
          },
          "metadata": {
            "tags": []
          },
          "execution_count": 2
        }
      ]
    },
    {
      "cell_type": "markdown",
      "metadata": {
        "id": "g-KPnt6CHcUE",
        "colab_type": "text"
      },
      "source": [
        "さらに次の変形（$\\left[\n",
        "  \\begin{array}{ccc}\n",
        "    1 & 2 & 1 \\\\\n",
        "    0 & 2 & -2 \\\\\n",
        "    0 & 4 & 1 \\\\\n",
        "  \\end{array}\n",
        "\\right]$\n",
        "を\n",
        "$\\left[\n",
        "  \\begin{array}{ccc}\n",
        "    1 & 2 & 1 \\\\\n",
        "    0 & 2 & -2 \\\\\n",
        "    0 & 0 & 5 \\\\\n",
        "  \\end{array}\n",
        "\\right]$\n",
        "に変換）を行うには、行列の左側から\n",
        "$\\left[\n",
        "  \\begin{array}{ccc}\n",
        "    1 & 0 & 0 \\\\\n",
        "    0 & 1 & 0 \\\\\n",
        "    0 & -2 & 1 \\\\\n",
        "  \\end{array}\n",
        "\\right]$\n",
        "を掛ける。\n",
        "\n",
        "$$\n",
        "\\left[\n",
        "  \\begin{array}{ccc}\n",
        "    1 & 0 & 0 \\\\\n",
        "    0 & 1 & 0 \\\\\n",
        "    0 & -2 & 1 \\\\\n",
        "  \\end{array}\n",
        "\\right] \\left[\n",
        "  \\begin{array}{ccc}\n",
        "    1 & 2 & 1 \\\\\n",
        "    0 & 2 & -2 \\\\\n",
        "    0 & 4 & 1 \\\\\n",
        "  \\end{array}\n",
        "\\right] = \\left[\n",
        "  \\begin{array}{ccc}\n",
        "    1 & 2 & 1 \\\\\n",
        "    0 & 2 & -2 \\\\\n",
        "    0 & 0 & 5 \\\\\n",
        "  \\end{array}\n",
        "\\right]\n",
        "$$"
      ]
    },
    {
      "cell_type": "code",
      "metadata": {
        "id": "GkB1pCGsGzhN",
        "colab_type": "code",
        "outputId": "39ee0d8d-d828-4ba8-e47e-3bf8a78fad38",
        "colab": {
          "base_uri": "https://localhost:8080/",
          "height": 70
        }
      },
      "source": [
        "E32 = np.array([[1, 0, 0], [0, 1, 0], [0, -2, 1]])\n",
        "np.dot(E32, A_)"
      ],
      "execution_count": 3,
      "outputs": [
        {
          "output_type": "execute_result",
          "data": {
            "text/plain": [
              "array([[ 1,  2,  1],\n",
              "       [ 0,  2, -2],\n",
              "       [ 0,  0,  5]])"
            ]
          },
          "metadata": {
            "tags": []
          },
          "execution_count": 3
        }
      ]
    },
    {
      "cell_type": "markdown",
      "metadata": {
        "id": "yshFTEOYI8KE",
        "colab_type": "text"
      },
      "source": [
        "まとめると、$E_{32}(E_{21}A)=(E_{32}E_{21})A=U$"
      ]
    },
    {
      "cell_type": "code",
      "metadata": {
        "id": "xwlAIY1DIjq-",
        "colab_type": "code",
        "outputId": "f3b734db-e76d-4f6e-a496-da80174b4d9a",
        "colab": {
          "base_uri": "https://localhost:8080/",
          "height": 70
        }
      },
      "source": [
        "np.dot(np.dot(E32, E21), A)"
      ],
      "execution_count": 4,
      "outputs": [
        {
          "output_type": "execute_result",
          "data": {
            "text/plain": [
              "array([[ 1,  2,  1],\n",
              "       [ 0,  2, -2],\n",
              "       [ 0,  0,  5]])"
            ]
          },
          "metadata": {
            "tags": []
          },
          "execution_count": 4
        }
      ]
    },
    {
      "cell_type": "markdown",
      "metadata": {
        "id": "b7bPTx7ehDbT",
        "colab_type": "text"
      },
      "source": [
        "## 置換行列 (Permutation Matrix)"
      ]
    },
    {
      "cell_type": "markdown",
      "metadata": {
        "id": "KWavhW5hhPdW",
        "colab_type": "text"
      },
      "source": [
        "左から行列を掛けると行の操作になる。\n",
        "$$\n",
        "\\left[\n",
        "  \\begin{array}{cc}\n",
        "    0 & 1 \\\\\n",
        "    1 & 0 \\\\\n",
        "  \\end{array}\n",
        "\\right] \\left[\n",
        "  \\begin{array}{cc}\n",
        "    a & b \\\\\n",
        "    c & d \\\\\n",
        "  \\end{array}\n",
        "\\right] = \\left[\n",
        "  \\begin{array}{cc}\n",
        "    c & d \\\\\n",
        "    a & b \\\\\n",
        "  \\end{array}\n",
        "\\right]\n",
        "$$\n",
        "\n",
        "右から行列を掛けると列の操作になる。\n",
        "$$\n",
        "\\left[\n",
        "  \\begin{array}{cc}\n",
        "    a & b \\\\\n",
        "    c & d \\\\\n",
        "  \\end{array}\n",
        "\\right] \\left[\n",
        "  \\begin{array}{cc}\n",
        "    0 & 1 \\\\\n",
        "    1 & 0 \\\\\n",
        "  \\end{array}\n",
        "\\right] = \\left[\n",
        "  \\begin{array}{cc}\n",
        "    b & a \\\\\n",
        "    d & c \\\\\n",
        "  \\end{array}\n",
        "\\right]\n",
        "$$"
      ]
    },
    {
      "cell_type": "markdown",
      "metadata": {
        "id": "MPSbQyGfi-qn",
        "colab_type": "text"
      },
      "source": [
        "## 逆行列\n",
        "行列の変形をもとに戻す(undo)行列\n",
        "\n",
        "$E=\\left[\n",
        "  \\begin{array}{ccc}\n",
        "    1 & 0 & 0 \\\\\n",
        "    -3 & 1 & 0 \\\\\n",
        "    0 & 0 & 1 \\\\\n",
        "  \\end{array}\n",
        "\\right]$\n",
        "（2行目から1行目の3倍を引く）をもとに戻す行列は\n",
        "$E^{-1}=\\left[\n",
        "  \\begin{array}{ccc}\n",
        "    1 & 0 & 0 \\\\\n",
        "    3 & 1 & 0 \\\\\n",
        "    0 & 0 & 1 \\\\\n",
        "  \\end{array}\n",
        "\\right]$\n",
        "\n",
        "行列とその逆行列を掛けると単位行列になる。\n",
        "$EE^{-1}=I$"
      ]
    },
    {
      "cell_type": "code",
      "metadata": {
        "id": "VMNegs7GJYGF",
        "colab_type": "code",
        "colab": {
          "base_uri": "https://localhost:8080/",
          "height": 70
        },
        "outputId": "abd63738-97da-4e78-8d47-d345982d1ff3"
      },
      "source": [
        "E = np.array([[1, 0, 0], [-3, 1, 0], [0, 0, 1]])\n",
        "E_inv = np.linalg.inv(E)\n",
        "np.dot(E, E_inv)"
      ],
      "execution_count": 5,
      "outputs": [
        {
          "output_type": "execute_result",
          "data": {
            "text/plain": [
              "array([[1., 0., 0.],\n",
              "       [0., 1., 0.],\n",
              "       [0., 0., 1.]])"
            ]
          },
          "metadata": {
            "tags": []
          },
          "execution_count": 5
        }
      ]
    }
  ]
}