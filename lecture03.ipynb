{
  "nbformat": 4,
  "nbformat_minor": 0,
  "metadata": {
    "colab": {
      "name": "lecture03.ipynb",
      "provenance": [],
      "collapsed_sections": [],
      "authorship_tag": "ABX9TyNx6bYK2dGw5S9LcjFV8Ffw",
      "include_colab_link": true
    },
    "kernelspec": {
      "name": "python3",
      "display_name": "Python 3"
    }
  },
  "cells": [
    {
      "cell_type": "markdown",
      "metadata": {
        "id": "view-in-github",
        "colab_type": "text"
      },
      "source": [
        "<a href=\"https://colab.research.google.com/github/tnaka78/mit_ocw_1806_spring_2005/blob/master/lecture03.ipynb\" target=\"_parent\"><img src=\"https://colab.research.google.com/assets/colab-badge.svg\" alt=\"Open In Colab\"/></a>"
      ]
    },
    {
      "cell_type": "code",
      "metadata": {
        "id": "-WRiQKyTyyl7",
        "colab_type": "code",
        "colab": {}
      },
      "source": [
        "import numpy as np"
      ],
      "execution_count": 0,
      "outputs": []
    },
    {
      "cell_type": "markdown",
      "metadata": {
        "id": "FeHH4E8Ly2iy",
        "colab_type": "text"
      },
      "source": [
        "# Lecture 3: Multiplication and Inverse Matrices\n",
        "講義動画：https://www.youtube.com/watch?v=FX4C-JpTFgY"
      ]
    },
    {
      "cell_type": "markdown",
      "metadata": {
        "id": "txH2D78xzWhj",
        "colab_type": "text"
      },
      "source": [
        "## 行列の掛け算\n",
        "$m\\times{}n$の行列$A$と$n\\times{}p$の行列$B$の掛け算の結果、$m\\times{}p$の行列$C$ができる。\n",
        "\n",
        "掛け算の考え方には次の4つがある。\n",
        "\n",
        "### (1) 行×列\n",
        "$C$の要素$c_{ij}$は、$A$の$i$行目と$B$の$j$列目の積\n",
        "$$\n",
        "c_{ij} = a_{i1}b_{1j}+a_{i2}b_{2j}+...+a_{in}b_{nj}=\\sum_{k=1}^{n}{a_{ik}b_{kj}}\n",
        "$$\n",
        "\n",
        "### (2) 行列×列\n",
        "$C$の$j$列目は、$A$と$B$の$j$列目の積　→ 「$C$の各列は、$A$の各列の組み合わせである」\n",
        "\n",
        "### (3) 行×行列\n",
        "$C$の$i$行目は、$A$の$i$行目と$B$の積　→ 「$C$の各行は、$B$の各行の組み合わせである」\n",
        "\n",
        "### (4) 列×行\n",
        "$C$は、$A$の各列と$B$の各行の積の合計\n",
        "\n",
        "$$\n",
        "\\left[\n",
        "  \\begin{array}{cc}\n",
        "    2 & 7 \\\\\n",
        "    3 & 8 \\\\\n",
        "    4 & 9 \\\\\n",
        "  \\end{array}\n",
        "\\right] \\left[\n",
        "  \\begin{array}{cc}\n",
        "    1 & 6 \\\\\n",
        "    0 & 0 \\\\\n",
        "  \\end{array}\n",
        "\\right] = \\left[\n",
        "  \\begin{array}{c}\n",
        "    2 \\\\\n",
        "    3 \\\\\n",
        "    4 \\\\\n",
        "  \\end{array}\n",
        "\\right] \\left[\n",
        "  \\begin{array}{cc}\n",
        "    1 & 6 \\\\\n",
        "  \\end{array}\n",
        "\\right] + \\left[\n",
        "  \\begin{array}{c}\n",
        "    7 \\\\\n",
        "    8 \\\\\n",
        "    9 \\\\\n",
        "  \\end{array}\n",
        "\\right] \\left[\n",
        "  \\begin{array}{cc}\n",
        "    0 & 0 \\\\\n",
        "  \\end{array}\n",
        "\\right]\n",
        "$$"
      ]
    },
    {
      "cell_type": "markdown",
      "metadata": {
        "id": "DDMT1eU_a-uB",
        "colab_type": "text"
      },
      "source": [
        "## ブロック\n",
        "行列をブロックに区切っても計算方法は同じ。\n",
        "\n",
        "$$\n",
        "\\left[\n",
        "  \\begin{array}{cc}\n",
        "    A_1 & A_2 \\\\\n",
        "    A_3 & A_4 \\\\\n",
        "  \\end{array}\n",
        "\\right] \\left[\n",
        "  \\begin{array}{cc}\n",
        "    B_1 & B_2 \\\\\n",
        "    B_3 & B_4 \\\\\n",
        "  \\end{array}\n",
        "\\right] = \\left[\n",
        "  \\begin{array}{cc}\n",
        "    A_1B_1+A_2B_3 & A_1B_2+A_2B_4 \\\\\n",
        "    A_3B_1+A_4B_3 & A_3B_2+A_4B_4 \\\\\n",
        "  \\end{array}\n",
        "\\right]\n",
        "$$"
      ]
    },
    {
      "cell_type": "markdown",
      "metadata": {
        "id": "o-8orKaRclew",
        "colab_type": "text"
      },
      "source": [
        "## 逆行列\n",
        "$A^{-1}A=AA^{-1}=I$\n",
        "逆行列が存在する行列を、「可逆(invertible)」または「非特異(non-singular)」と呼ぶ。\n",
        "\n",
        "### 非可逆な行列とは？\n",
        "ある列が別の列の何倍かになっているものは非可逆である。\n",
        "\n",
        "例：$\\left[\n",
        "  \\begin{array}{cc}\n",
        "    1 & 3 \\\\\n",
        "    2 & 6 \\\\\n",
        "  \\end{array}\n",
        "\\right]$\n",
        "\n",
        "$Ax=0$となるベクトル$x$が存在する行列$A$は非可逆である。$\\left[\n",
        "  \\begin{array}{cc}\n",
        "    1 & 3 \\\\\n",
        "    2 & 6 \\\\\n",
        "  \\end{array}\n",
        "\\right] \\left[\n",
        "  \\begin{array}{c}\n",
        "    -3 \\\\\n",
        "    1\n",
        "  \\end{array}\n",
        "\\right]=\\left[\n",
        "  \\begin{array}{c}\n",
        "    0 \\\\\n",
        "    0\n",
        "  \\end{array}\n",
        "\\right]$ \n",
        "\n",
        "### 可逆行列の見つけ方\n",
        "例：$\\left[\n",
        "  \\begin{array}{cc}\n",
        "    1 & 3 \\\\\n",
        "    2 & 7 \\\\\n",
        "  \\end{array}\n",
        "\\right]$\n",
        "\n",
        "Gauss-Jordan法\n",
        "$$\n",
        "\\left[\n",
        "  \\begin{array}{cc|cc}\n",
        "    1 & 3 & 1 & 0 \\\\\n",
        "    2 & 7 & 0 & 1 \\\\\n",
        "  \\end{array}\n",
        "\\right] \\rightarrow \\left[\n",
        "  \\begin{array}{cc|cc}\n",
        "    1 & 3 & 1 & 0 \\\\\n",
        "    0 & 1 & -2 & 1 \\\\\n",
        "  \\end{array}\n",
        "\\right] \\rightarrow \\left[\n",
        "  \\begin{array}{cc|cc}\n",
        "    1 & 0 & 7 & -3 \\\\\n",
        "    0 & 1 & -2 & 1 \\\\\n",
        "  \\end{array}\n",
        "\\right]\n",
        "$$\n",
        "\n",
        "右半分（$\\left[\n",
        "  \\begin{array}{cc}\n",
        "    7 & -3 \\\\\n",
        "    -2 & 1 \\\\\n",
        "  \\end{array}\n",
        "\\right]$）が元の行列の逆行列\n",
        "\n",
        "$$\n",
        "E \\left[\n",
        "  \\begin{array}{cc}\n",
        "    A & I \\\\\n",
        "  \\end{array}\n",
        "\\right]=\\left[\n",
        "  \\begin{array}{cc}\n",
        "    I & A^{-1} \\\\\n",
        "  \\end{array}\n",
        "\\right]\n",
        "$$"
      ]
    },
    {
      "cell_type": "code",
      "metadata": {
        "id": "OkqYhlNF-86Z",
        "colab_type": "code",
        "colab": {
          "base_uri": "https://localhost:8080/",
          "height": 52
        },
        "outputId": "d989781a-ab1e-426a-c47d-142265b46565"
      },
      "source": [
        "a = np.array([[1, 3], [2, 7]])\n",
        "a_inv = np.linalg.inv(a)\n",
        "a_inv"
      ],
      "execution_count": 2,
      "outputs": [
        {
          "output_type": "execute_result",
          "data": {
            "text/plain": [
              "array([[ 7., -3.],\n",
              "       [-2.,  1.]])"
            ]
          },
          "metadata": {
            "tags": []
          },
          "execution_count": 2
        }
      ]
    },
    {
      "cell_type": "code",
      "metadata": {
        "id": "MKxnI-NLuADy",
        "colab_type": "code",
        "colab": {
          "base_uri": "https://localhost:8080/",
          "height": 52
        },
        "outputId": "e9bb2d62-6544-4214-f361-39fdfd9f8133"
      },
      "source": [
        "np.matmul(a, a_inv)"
      ],
      "execution_count": 3,
      "outputs": [
        {
          "output_type": "execute_result",
          "data": {
            "text/plain": [
              "array([[1., 0.],\n",
              "       [0., 1.]])"
            ]
          },
          "metadata": {
            "tags": []
          },
          "execution_count": 3
        }
      ]
    }
  ]
}