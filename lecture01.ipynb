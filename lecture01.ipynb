{
  "nbformat": 4,
  "nbformat_minor": 0,
  "metadata": {
    "colab": {
      "name": "lecture01.ipynb",
      "provenance": [],
      "include_colab_link": true
    },
    "kernelspec": {
      "name": "python3",
      "display_name": "Python 3"
    }
  },
  "cells": [
    {
      "cell_type": "markdown",
      "metadata": {
        "id": "view-in-github",
        "colab_type": "text"
      },
      "source": [
        "<a href=\"https://colab.research.google.com/github/tnaka78/mit_ocw_1806_spring_2005/blob/master/lecture01.ipynb\" target=\"_parent\"><img src=\"https://colab.research.google.com/assets/colab-badge.svg\" alt=\"Open In Colab\"/></a>"
      ]
    },
    {
      "cell_type": "code",
      "metadata": {
        "id": "-Th4PQhnYMSb",
        "colab_type": "code",
        "colab": {}
      },
      "source": [
        "import numpy as np\n",
        "import matplotlib.pyplot as plt"
      ],
      "execution_count": 0,
      "outputs": []
    },
    {
      "cell_type": "markdown",
      "metadata": {
        "id": "Hx0-JRU-YgKt",
        "colab_type": "text"
      },
      "source": [
        "# Lecture 1: The Geometry of Linear Equations"
      ]
    },
    {
      "cell_type": "markdown",
      "metadata": {
        "id": "NYb07OBJYy4N",
        "colab_type": "text"
      },
      "source": [
        "$$\n",
        "2x-y=0 \\\\\n",
        "-x+2y=3\n",
        "$$\n",
        "を行列で表すと\n",
        "$$\n",
        "\\left[\n",
        "  \\begin{array}{rr}\n",
        "    2 & -1 \\\\\n",
        "    -1 & 2\n",
        "  \\end{array}\n",
        "\\right]\n",
        "\\left[\n",
        "  \\begin{array}{r}\n",
        "    x\\\\\n",
        "    y\n",
        "  \\end{array}\n",
        "\\right]\n",
        "=\n",
        "\\left[\n",
        "  \\begin{array}{r}\n",
        "    0\\\\\n",
        "    3\n",
        "  \\end{array}\n",
        "\\right]\n",
        "$$"
      ]
    },
    {
      "cell_type": "markdown",
      "metadata": {
        "id": "JTsLiNSRaIps",
        "colab_type": "text"
      },
      "source": [
        "## Row Picture\n",
        "行ごとに見ていく方法（方程式をそのままプロットするイメージ）"
      ]
    },
    {
      "cell_type": "code",
      "metadata": {
        "id": "6xNTsI4dYXwA",
        "colab_type": "code",
        "colab": {
          "base_uri": "https://localhost:8080/",
          "height": 265
        },
        "outputId": "ec8f8fc0-4464-470b-8232-e872db8f9fe9"
      },
      "source": [
        "xs = np.linspace(-5, 5, 100)\n",
        "ys1 = [2 * x for x in xs]\n",
        "ys2 = [(3+x)/2 for x in xs]\n",
        "fig, ax = plt.subplots()\n",
        "ax.plot(xs, ys1, color='blue')\n",
        "ax.plot(xs, ys2, color='red')\n",
        "ax.hlines(2, -5, 5, linestyles='dotted')\n",
        "ax.vlines(1, -5, 5, linestyles='dotted')\n",
        "ax.annotate('[1, 2]', [1, 2])\n",
        "ax.axis([-5, 5, -5, 5])\n",
        "plt.show()"
      ],
      "execution_count": 2,
      "outputs": [
        {
          "output_type": "display_data",
          "data": {
            "image/png": "[encoded data removed]",
            "text/plain": [
              "<Figure size 432x288 with 1 Axes>"
            ]
          },
          "metadata": {
            "tags": []
          }
        }
      ]
    },
    {
      "cell_type": "markdown",
      "metadata": {
        "id": "xxTGxQn7vjyV",
        "colab_type": "text"
      },
      "source": [
        "2本の線の交点が答え→$x=1, y=2$"
      ]
    },
    {
      "cell_type": "markdown",
      "metadata": {
        "id": "kYAGLOytjHZn",
        "colab_type": "text"
      },
      "source": [
        "## Column Picture\n",
        "列ごとに見ていく方法（一つの列を一つのベクトルをみなす）\n",
        "$$\n",
        "\\left[\n",
        "  \\begin{array}{c}\n",
        "    2 \\\\\n",
        "    -1\n",
        "  \\end{array}\n",
        "\\right]\n",
        "x+\n",
        "\\left[\n",
        "  \\begin{array}{c}\n",
        "    -1\\\\\n",
        "    2\n",
        "  \\end{array}\n",
        "\\right]\n",
        "y=\n",
        "\\left[\n",
        "  \\begin{array}{r}\n",
        "    0\\\\\n",
        "    3\n",
        "  \\end{array}\n",
        "\\right]\n",
        "$$"
      ]
    },
    {
      "cell_type": "code",
      "metadata": {
        "id": "WeMVBtQ1joeT",
        "colab_type": "code",
        "colab": {
          "base_uri": "https://localhost:8080/",
          "height": 269
        },
        "outputId": "f6f1628a-b75d-4634-b059-b1f87b42e345"
      },
      "source": [
        "fig, ax = plt.subplots()\n",
        "ax.quiver(0, 0, 2, -1, angles='xy', scale_units='xy', scale=1, color='blue')\n",
        "ax.annotate('[2, -1]', [2, -1], color='blue')\n",
        "ax.quiver(0, 0, -1, 2, angles='xy', scale_units='xy', scale=1, color='red')\n",
        "ax.annotate('[-1, 2]', [-1, 2], color='red')\n",
        "ax.quiver(0, 0, 0, 3, angles='xy', scale_units='xy', scale=1, color='green')\n",
        "ax.annotate('[0, 3]', [0, 3], color='green')\n",
        "ax.axis([-4, 4, -4, 4])\n",
        "plt.show()"
      ],
      "execution_count": 3,
      "outputs": [
        {
          "output_type": "display_data",
          "data": {
            "image/png": "[encoded data removed]",
            "text/plain": [
              "<Figure size 432x288 with 1 Axes>"
            ]
          },
          "metadata": {
            "tags": []
          }
        }
      ]
    },
    {
      "cell_type": "markdown",
      "metadata": {
        "id": "5Oy1scgwr38e",
        "colab_type": "text"
      },
      "source": [
        "青のベクトル1個分と赤のベクトル2個分を足すと緑のベクトルになる→ $x=1, y=2$"
      ]
    },
    {
      "cell_type": "code",
      "metadata": {
        "id": "WxpWtrw7r5ln",
        "colab_type": "code",
        "colab": {}
      },
      "source": [
        ""
      ],
      "execution_count": 0,
      "outputs": []
    }
  ]
}